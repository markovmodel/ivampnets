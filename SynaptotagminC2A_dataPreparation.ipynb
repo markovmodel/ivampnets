{
 "cells": [
  {
   "cell_type": "code",
   "execution_count": null,
   "metadata": {
    "ExecuteTime": {
     "end_time": "2022-07-26T15:51:59.813087Z",
     "start_time": "2022-07-26T15:51:43.109613Z"
    }
   },
   "outputs": [],
   "source": [
    "import numpy as np\n",
    "import pyemma\n",
    "from tqdm.notebook import tqdm\n",
    "import mdtraj\n",
    "import itertools\n",
    "import h5py\n",
    "from glob import glob"
   ]
  },
  {
   "cell_type": "code",
   "execution_count": null,
   "metadata": {
    "ExecuteTime": {
     "end_time": "2022-07-26T15:52:01.029155Z",
     "start_time": "2022-07-26T15:52:00.993261Z"
    }
   },
   "outputs": [],
   "source": [
    "# file paths\n",
    "topfile = 'setup/hsynapto.pdb'\n",
    "syt_files = glob('0cal_dyn*.1/hsynapto-protein-stride10.xtc')\n",
    "\n",
    "outfile = 'syt_0cal_internal1by1_stride100.hdf5'"
   ]
  },
  {
   "cell_type": "code",
   "execution_count": null,
   "metadata": {
    "ExecuteTime": {
     "end_time": "2022-07-26T15:52:02.464546Z",
     "start_time": "2022-07-26T15:52:01.770482Z"
    }
   },
   "outputs": [],
   "source": [
    "# define pyemma featurizer\n",
    "feat = pyemma.coordinates.featurizer(topfile)\n",
    "\n",
    "# add pairs of residues, exclude first and last 3 residues\n",
    "pairs = feat.pairs(np.arange(3, feat.topology.n_residues - 3), excluded_neighbors=5)\n",
    "feat.add_residue_mindist(residue_pairs=pairs)"
   ]
  },
  {
   "cell_type": "code",
   "execution_count": null,
   "metadata": {
    "ExecuteTime": {
     "end_time": "2022-07-26T15:53:38.939695Z",
     "start_time": "2022-07-26T15:53:38.788757Z"
    }
   },
   "outputs": [],
   "source": [
    "# create iterator\n",
    "data_source = pyemma.coordinates.source(syt_files, feat)"
   ]
  },
  {
   "cell_type": "code",
   "execution_count": null,
   "metadata": {
    "ExecuteTime": {
     "end_time": "2022-07-26T15:54:11.197537Z",
     "start_time": "2022-07-26T15:53:39.612383Z"
    }
   },
   "outputs": [],
   "source": [
    "### process data with featurizer and write to disk\n",
    "\n",
    "# note that stride parameter here must be multiplied by the stride on the\n",
    "# trajectories that we're loading (which is 10),\n",
    "# i.e., loading with stride 10 here is a total stride of 100. compare `outfile`\n",
    "\n",
    "it = data_source.iterator(stride=10, chunk=1000)\n",
    "\n",
    "with h5py.File(outfile, \"w\") as f:\n",
    "    last_trajid = -1\n",
    "    for trajid, chunk in tqdm(it, total=it.n_chunks):\n",
    "       \n",
    "        if last_trajid < trajid:\n",
    "            if last_trajid != -1:\n",
    "                dset.flush()\n",
    "            dset = f.create_dataset(syt_files[trajid].split('/')[-2], \n",
    "                                    shape=(it.trajectory_length(), feat.dimension()), \n",
    "                                    dtype=np.float32)\n",
    "            start = 0\n",
    "            last_trajid = trajid\n",
    "        dset[it.pos:it.pos + it.chunksize if it.pos + it.chunksize < it.trajectory_length() else None] = chunk\n",
    "        start += 1"
   ]
  },
  {
   "cell_type": "code",
   "execution_count": null,
   "metadata": {},
   "outputs": [],
   "source": []
  }
 ],
 "metadata": {
  "kernelspec": {
   "display_name": "py37_mar20",
   "language": "python",
   "name": "py37_mar20"
  },
  "language_info": {
   "codemirror_mode": {
    "name": "ipython",
    "version": 3
   },
   "file_extension": ".py",
   "mimetype": "text/x-python",
   "name": "python",
   "nbconvert_exporter": "python",
   "pygments_lexer": "ipython3",
   "version": "3.7.6"
  }
 },
 "nbformat": 4,
 "nbformat_minor": 2
}
